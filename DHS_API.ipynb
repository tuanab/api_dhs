{
 "cells": [
  {
   "cell_type": "code",
   "execution_count": 1,
   "metadata": {},
   "outputs": [],
   "source": [
    "from urllib.request import urlopen\n",
    "import requests\n",
    "import json\n",
    "import pandas as pd\n",
    "\n",
    "check_url = r'http://api.dhsprogram.com/rest/dhs/datasets/KE,UG,CG,ZW,ZM,TG,SZ,ZA,SL,\\\n",
    "SN,RW,NG,NI,NM,MZ,MR,ML,MW,GN,GH,GM,GA,ET,ER,EK,CD,TD,CF,BF,BT,BJ,AO?perpage=12000&apiKey=DATARI-371933'\n",
    "tag_url = 'http://api.dhsprogram.com/rest/dhs/tags'\n",
    "\n",
    "req = urlopen(check_url)\n",
    "tag_req = urlopen(tag_url)\n",
    "\n",
    "resp = json.loads(req.read())\n",
    "resp_tag = json.loads(tag_req.read())\n",
    "\n",
    "DHS_data = pd.DataFrame(resp['Data']) \n",
    "tag = pd.DataFrame(resp_tag['Data'])\n"
   ]
  },
  {
   "cell_type": "code",
   "execution_count": null,
   "metadata": {},
   "outputs": [],
   "source": []
  }
 ],
 "metadata": {
  "kernelspec": {
   "display_name": "Python 3",
   "language": "python",
   "name": "python3"
  },
  "language_info": {
   "codemirror_mode": {
    "name": "ipython",
    "version": 3
   },
   "file_extension": ".py",
   "mimetype": "text/x-python",
   "name": "python",
   "nbconvert_exporter": "python",
   "pygments_lexer": "ipython3",
   "version": "3.6.4"
  }
 },
 "nbformat": 4,
 "nbformat_minor": 2
}
